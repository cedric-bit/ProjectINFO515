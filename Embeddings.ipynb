{
 "cells": [
  {
   "cell_type": "code",
   "execution_count": 8,
   "id": "96b6cd30-92e3-4a1e-b51d-4bef316ff458",
   "metadata": {},
   "outputs": [
    {
     "name": "stdout",
     "output_type": "stream",
     "text": [
      "      file_name chunk_id                                               text  \\\n",
      "0  0-prelim.pdf        0  infoh515 big data distributed data management ...   \n",
      "1   1-intro.pdf        0  infoh515 big data distributed management lectu...   \n",
      "2   1-intro.pdf        1  computer luiz andré barroso google jimmy clida...   \n",
      "3   1-intro.pdf        2  collecting cleaning analysing interpreting dat...   \n",
      "4   1-intro.pdf        3  viewing habits public datasuch voter registrat...   \n",
      "\n",
      "                                     tfidf_embedding  \n",
      "0  [0.0, 0.0, 0.0, 0.0, 0.0, 0.0, 0.0, 0.0, 0.0, ...  \n",
      "1  [0.0, 0.0, 0.0, 0.0, 0.0, 0.0, 0.0, 0.0, 0.0, ...  \n",
      "2  [0.0, 0.0, 0.0, 0.0, 0.0, 0.0, 0.0, 0.0, 0.0, ...  \n",
      "3  [0.0, 0.0, 0.0, 0.0, 0.0, 0.0, 0.0, 0.0, 0.0, ...  \n",
      "4  [0.0, 0.0, 0.0, 0.0, 0.0, 0.0, 0.0, 0.0, 0.0, ...  \n"
     ]
    }
   ],
   "source": [
    "from pyspark.sql import SparkSession\n",
    "import pandas as pd\n",
    "from sklearn.feature_extraction.text import TfidfVectorizer\n",
    "\n",
    "# 1. Démarrer Spark\n",
    "spark = SparkSession.builder \\\n",
    "    .master(\"local[*]\") \\\n",
    "    .appName(\"TFIDF_ScikitLearn\") \\\n",
    "    .getOrCreate()\n",
    "\n",
    "chunks_df = spark.read.option(\"header\", \"true\").csv(\"chunks/all_chunks.csv\")\n",
    "pdf = chunks_df.select(\"file_name\", \"chunk_id\", \"text\").toPandas()\n",
    "\n",
    "# 3. Appliquer TF-IDF avec sklearn\n",
    "vectorizer = TfidfVectorizer()\n",
    "tfidf_matrix = vectorizer.fit_transform(pdf[\"text\"])\n",
    "\n",
    "pdf[\"tfidf_embedding\"] = tfidf_matrix.toarray().tolist()\n",
    "result_df = pdf[[\"file_name\", \"chunk_id\", \"text\", \"tfidf_embedding\"]]\n",
    "\n",
    "print(result_df.head())\n"
   ]
  },
  {
   "cell_type": "code",
   "execution_count": null,
   "id": "6e878472-7b2b-49f0-a42b-8da09ff31499",
   "metadata": {},
   "outputs": [],
   "source": []
  }
 ],
 "metadata": {
  "kernelspec": {
   "display_name": "Python 3 (ipykernel)",
   "language": "python",
   "name": "python3"
  },
  "language_info": {
   "codemirror_mode": {
    "name": "ipython",
    "version": 3
   },
   "file_extension": ".py",
   "mimetype": "text/x-python",
   "name": "python",
   "nbconvert_exporter": "python",
   "pygments_lexer": "ipython3",
   "version": "3.8.20"
  }
 },
 "nbformat": 4,
 "nbformat_minor": 5
}
